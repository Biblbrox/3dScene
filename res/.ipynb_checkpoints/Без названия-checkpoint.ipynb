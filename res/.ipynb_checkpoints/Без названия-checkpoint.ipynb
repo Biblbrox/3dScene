{
 "cells": [
  {
   "cell_type": "code",
   "execution_count": 1,
   "id": "5e9ffdf3",
   "metadata": {},
   "outputs": [],
   "source": [
    "import numpy as np\n",
    "import matplotlib.image as mpimg\n",
    "import matplotlib.pyplot as plt\n",
    "from pyqtgraph.Qt import QtCore, QtGui\n",
    "import pyqtgraph.opengl as gl\n",
    "import numpy as np\n",
    "\n",
    "%matplotlib qt"
   ]
  },
  {
   "cell_type": "code",
   "execution_count": null,
   "id": "dab1bb13-c63e-43fd-becb-197cfc575968",
   "metadata": {},
   "outputs": [
    {
     "name": "stdout",
     "output_type": "stream",
     "text": [
      "[[-10   1   3]\n",
      " [  3   9   5]\n",
      " [  0  -7   2]\n",
      " ...\n",
      " [  8  -9   5]\n",
      " [  8 -10   1]\n",
      " [  6  -6   9]]\n"
     ]
    }
   ],
   "source": [
    "data = np.loadtxt('data.txt', delimiter=',')\n",
    "\n",
    "x = data[:, 0]\n",
    "y = data[:, 1]\n",
    "z = data[:, 2]\n",
    "\n",
    "app = QtGui.QApplication([])\n",
    "w = gl.GLViewWidget()\n",
    "w.show()\n",
    "g = gl.GLGridItem()\n",
    "w.addItem(g)\n",
    "\n",
    "#generate random points from -10 to 10, z-axis positive\n",
    "pos = np.random.randint(-10,10,size=(1000,3))\n",
    "pos[:,2] = np.abs(pos[:,2])\n",
    "pos = data\n",
    "\n",
    "sp2 = gl.GLScatterPlotItem(pos=pos)\n",
    "w.addItem(sp2)\n",
    "\n",
    "#generate a color opacity gradient\n",
    "color = np.zeros((pos.shape[0],4), dtype=np.float32)\n",
    "color[:,0] = 1\n",
    "color[:,1] = 0\n",
    "color[:,2] = 0.5\n",
    "color[0:100,3] = np.arange(0,100)/100.\n",
    "\n",
    "def update():\n",
    "    ## update volume colors\n",
    "    global color\n",
    "    color = np.roll(color,1, axis=0)\n",
    "    sp2.setData(color=color)\n",
    "\n",
    "t = QtCore.QTimer()\n",
    "t.timeout.connect(update)\n",
    "t.start(50)\n",
    "\n",
    "\n",
    "## Start Qt event loop unless running in interactive mode.\n",
    "if __name__ == '__main__':\n",
    "    import sys\n",
    "    if (sys.flags.interactive != 1) or not hasattr(QtCore, PYQT_VERSION):\n",
    "        QtGui.QApplication.instance().exec_()\n"
   ]
  }
 ],
 "metadata": {
  "kernelspec": {
   "display_name": "Python 3",
   "language": "python",
   "name": "python3"
  },
  "language_info": {
   "codemirror_mode": {
    "name": "ipython",
    "version": 3
   },
   "file_extension": ".py",
   "mimetype": "text/x-python",
   "name": "python",
   "nbconvert_exporter": "python",
   "pygments_lexer": "ipython3",
   "version": "3.8.10"
  }
 },
 "nbformat": 4,
 "nbformat_minor": 5
}
