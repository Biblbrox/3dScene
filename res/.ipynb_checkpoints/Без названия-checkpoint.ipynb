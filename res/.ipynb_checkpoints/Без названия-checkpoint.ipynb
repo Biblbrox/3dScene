{
 "cells": [
  {
   "cell_type": "code",
   "execution_count": 2,
   "id": "5e9ffdf3",
   "metadata": {},
   "outputs": [],
   "source": [
    "import numpy as np\n",
    "import matplotlib.image as mpimg\n",
    "import matplotlib.pyplot as plt\n",
    "%matplotlib notebook"
   ]
  },
  {
   "cell_type": "code",
   "execution_count": 20,
   "id": "dab1bb13-c63e-43fd-becb-197cfc575968",
   "metadata": {},
   "outputs": [
    {
     "name": "stdout",
     "output_type": "stream",
     "text": [
      "(741, 1034)\n",
      "-0.5\n",
      "0.5\n"
     ]
    }
   ],
   "source": [
    "img = mpimg.imread('heightmap.png')\n",
    "img = img[:, :, 0]\n",
    "print(np.shape(img))\n",
    "img = img - 0.5\n",
    "img = img / 0.5\n",
    "print(np.min(img))\n",
    "print(np.max(img))\n",
    "#imgplot = plt.imshow(img)\n",
    "with open(\"heightmap\", 'w') as f:\n",
    "    for row in img:\n",
    "        np.savetxt(f, row)\n"
   ]
  }
 ],
 "metadata": {
  "kernelspec": {
   "display_name": "Python 3",
   "language": "python",
   "name": "python3"
  },
  "language_info": {
   "codemirror_mode": {
    "name": "ipython",
    "version": 3
   },
   "file_extension": ".py",
   "mimetype": "text/x-python",
   "name": "python",
   "nbconvert_exporter": "python",
   "pygments_lexer": "ipython3",
   "version": "3.8.5"
  }
 },
 "nbformat": 4,
 "nbformat_minor": 5
}
