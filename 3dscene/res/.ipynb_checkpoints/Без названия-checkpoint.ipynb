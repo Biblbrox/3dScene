{
 "cells": [
  {
   "cell_type": "code",
   "execution_count": 3,
   "id": "5e9ffdf3",
   "metadata": {},
   "outputs": [],
   "source": [
    "import numpy as np\n",
    "import matplotlib.pyplot as plt\n",
    "%matplotlib notebook"
   ]
  },
  {
   "cell_type": "code",
   "execution_count": null,
   "id": "dab1bb13-c63e-43fd-becb-197cfc575968",
   "metadata": {},
   "outputs": [],
   "source": [
    "fig = plt.figure(figsize=(4,4))\n",
    "\n",
    "ax = fig.add_subplot(111, projection='3d')\n",
    "\n",
    "data = np.array([[1, 1, 1]])\n",
    "with open(\"/home/biblbrox/3dscene/res/data\") as f:\n",
    "    for line in f:\n",
    "        row = np.array([float(num) for num in line.split(',')])\n",
    "        data = np.vstack([data, row])\n",
    "\n",
    "# plot the point (2,3,4) on the figure\n",
    "ax.scatter(data[:, 0], data[:, 1], data[:, 2], alpha=1, s=1) \n",
    "\n",
    "print(data)\n",
    "plt.show()"
   ]
  }
 ],
 "metadata": {
  "kernelspec": {
   "display_name": "Python 3",
   "language": "python",
   "name": "python3"
  },
  "language_info": {
   "codemirror_mode": {
    "name": "ipython",
    "version": 3
   },
   "file_extension": ".py",
   "mimetype": "text/x-python",
   "name": "python",
   "nbconvert_exporter": "python",
   "pygments_lexer": "ipython3",
   "version": "3.8.5"
  }
 },
 "nbformat": 4,
 "nbformat_minor": 5
}
